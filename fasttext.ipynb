{
 "cells": [
  {
   "cell_type": "code",
   "execution_count": 1,
   "metadata": {},
   "outputs": [],
   "source": [
    "import fasttext\n",
    "import pandas as pd\n",
    "import os\n",
    "from huggingface_hub import hf_hub_download"
   ]
  },
  {
   "cell_type": "code",
   "execution_count": 46,
   "metadata": {},
   "outputs": [],
   "source": [
    "from config import m2m_lang_mapping\n",
    "from pprint import pprint\n",
    "import seaborn as sns\n",
    "import matplotlib.pyplot as plt\n",
    "sns.set_theme(style=\"whitegrid\")"
   ]
  },
  {
   "cell_type": "markdown",
   "metadata": {},
   "source": [
    "### Download and load the model"
   ]
  },
  {
   "cell_type": "code",
   "execution_count": 3,
   "metadata": {},
   "outputs": [
    {
     "name": "stdout",
     "output_type": "stream",
     "text": [
      "model path:  /Users/hassanghalib/Drive1/MACOS/MyWork/CustomerAnalytics/Repositories/lang_detect_analysis/models/models--facebook--fasttext-language-identification/snapshots/3af127d4124fc58b75666f3594bb5143b9757e78/model.bin\n"
     ]
    },
    {
     "name": "stderr",
     "output_type": "stream",
     "text": [
      "Warning : `load_model` does not return WordVectorModel or SupervisedModel any more, but a `FastText` object which is very similar.\n"
     ]
    }
   ],
   "source": [
    "# Download models if not already present\n",
    "local_files = f\"{os.getcwd()}/models\"\n",
    "model_path = hf_hub_download(repo_id=\"facebook/fasttext-language-identification\", \n",
    "                             cache_dir=local_files, filename=\"model.bin\")\n",
    "\n",
    "print(\"model path: \", model_path)\n",
    "# Load the model\n",
    "model = fasttext.load_model(model_path)\n"
   ]
  },
  {
   "cell_type": "code",
   "execution_count": 31,
   "metadata": {},
   "outputs": [],
   "source": [
    "ls_undetected_lang_code = set()\n",
    "ls_error_reviews = []\n",
    "\n",
    "def predict(text, model_obj):\n",
    "    pred_label = None\n",
    "    short_code = None\n",
    "    try:\n",
    "        r = model_obj.predict(text)\n",
    "        pred_label = r[0][0]    \n",
    "        short_code = m2m_lang_mapping[pred_label]\n",
    "        return short_code\n",
    "    except Exception as ex:\n",
    "        print(f\"Unable to Detect langauge: {text}  {ex}\")\n",
    "        ls_undetected_lang_code.add(pred_label)\n",
    "        ls_error_reviews.append(text)\n",
    "    \n",
    "    return None\n",
    "\n",
    "def plot(df_data, log=True):\n",
    "       # Initialize the matplotlib figure\n",
    "       f, ax = plt.subplots(figsize=(8, 8))\n",
    "\n",
    "       # Plot the total crashes\n",
    "       sns.set_color_codes(\"pastel\")\n",
    "       sns.barplot(x=\"count\", y=\"language\", data=df_data,\n",
    "              label=\"Number of Reviews\", color=\"b\")\n",
    "\n",
    "       ax.legend(ncol=2, loc=\"lower right\", frameon=True)\n",
    "       if log:\n",
    "        plt.xscale('log')\n",
    "       ax.set(ylabel=\"\",\n",
    "              xlabel=\"Number of reviews and their detected langauge\")\n",
    "       sns.despine(left=True, bottom=True)\n",
    "    "
   ]
  },
  {
   "cell_type": "markdown",
   "metadata": {},
   "source": [
    "### Load sample review dataset"
   ]
  },
  {
   "cell_type": "code",
   "execution_count": 90,
   "metadata": {},
   "outputs": [
    {
     "name": "stdout",
     "output_type": "stream",
     "text": [
      "<class 'pandas.core.frame.DataFrame'>\n",
      "RangeIndex: 72283 entries, 0 to 72282\n",
      "Data columns (total 5 columns):\n",
      " #   Column                Non-Null Count  Dtype \n",
      "---  ------                --------------  ----- \n",
      " 0   prev_detected_lang    72283 non-null  object\n",
      " 1   text                  72283 non-null  object\n",
      " 2   cleaned_text          72283 non-null  object\n",
      " 3   cleaned_text_n_words  72283 non-null  int64 \n",
      " 4   cleaned_text_n_char   72283 non-null  int64 \n",
      "dtypes: int64(2), object(3)\n",
      "memory usage: 2.8+ MB\n",
      "None\n"
     ]
    },
    {
     "data": {
      "text/html": [
       "<div>\n",
       "<style scoped>\n",
       "    .dataframe tbody tr th:only-of-type {\n",
       "        vertical-align: middle;\n",
       "    }\n",
       "\n",
       "    .dataframe tbody tr th {\n",
       "        vertical-align: top;\n",
       "    }\n",
       "\n",
       "    .dataframe thead th {\n",
       "        text-align: right;\n",
       "    }\n",
       "</style>\n",
       "<table border=\"1\" class=\"dataframe\">\n",
       "  <thead>\n",
       "    <tr style=\"text-align: right;\">\n",
       "      <th></th>\n",
       "      <th>prev_detected_lang</th>\n",
       "      <th>text</th>\n",
       "      <th>cleaned_text</th>\n",
       "      <th>cleaned_text_n_words</th>\n",
       "      <th>cleaned_text_n_char</th>\n",
       "    </tr>\n",
       "  </thead>\n",
       "  <tbody>\n",
       "    <tr>\n",
       "      <th>0</th>\n",
       "      <td>ar</td>\n",
       "      <td>Exceptional.</td>\n",
       "      <td>Exceptional</td>\n",
       "      <td>1</td>\n",
       "      <td>11</td>\n",
       "    </tr>\n",
       "    <tr>\n",
       "      <th>1</th>\n",
       "      <td>ar</td>\n",
       "      <td>Superb.</td>\n",
       "      <td>Superb</td>\n",
       "      <td>1</td>\n",
       "      <td>6</td>\n",
       "    </tr>\n",
       "    <tr>\n",
       "      <th>2</th>\n",
       "      <td>ar</td>\n",
       "      <td>Exceptional.</td>\n",
       "      <td>Exceptional</td>\n",
       "      <td>1</td>\n",
       "      <td>11</td>\n",
       "    </tr>\n",
       "    <tr>\n",
       "      <th>3</th>\n",
       "      <td>ar</td>\n",
       "      <td>Pleasant.</td>\n",
       "      <td>Pleasant</td>\n",
       "      <td>1</td>\n",
       "      <td>8</td>\n",
       "    </tr>\n",
       "    <tr>\n",
       "      <th>4</th>\n",
       "      <td>ar</td>\n",
       "      <td>Superb.</td>\n",
       "      <td>Superb</td>\n",
       "      <td>1</td>\n",
       "      <td>6</td>\n",
       "    </tr>\n",
       "    <tr>\n",
       "      <th>5</th>\n",
       "      <td>ar</td>\n",
       "      <td>Exceptional.</td>\n",
       "      <td>Exceptional</td>\n",
       "      <td>1</td>\n",
       "      <td>11</td>\n",
       "    </tr>\n",
       "    <tr>\n",
       "      <th>6</th>\n",
       "      <td>ar</td>\n",
       "      <td>Exceptional.</td>\n",
       "      <td>Exceptional</td>\n",
       "      <td>1</td>\n",
       "      <td>11</td>\n",
       "    </tr>\n",
       "    <tr>\n",
       "      <th>7</th>\n",
       "      <td>de</td>\n",
       "      <td>Superb.</td>\n",
       "      <td>Superb</td>\n",
       "      <td>1</td>\n",
       "      <td>6</td>\n",
       "    </tr>\n",
       "    <tr>\n",
       "      <th>8</th>\n",
       "      <td>ar</td>\n",
       "      <td>Very good.</td>\n",
       "      <td>Very good</td>\n",
       "      <td>2</td>\n",
       "      <td>9</td>\n",
       "    </tr>\n",
       "    <tr>\n",
       "      <th>9</th>\n",
       "      <td>ar</td>\n",
       "      <td>Exceptional.</td>\n",
       "      <td>Exceptional</td>\n",
       "      <td>1</td>\n",
       "      <td>11</td>\n",
       "    </tr>\n",
       "  </tbody>\n",
       "</table>\n",
       "</div>"
      ],
      "text/plain": [
       "  prev_detected_lang          text cleaned_text  cleaned_text_n_words  \\\n",
       "0                 ar  Exceptional.  Exceptional                     1   \n",
       "1                 ar       Superb.       Superb                     1   \n",
       "2                 ar  Exceptional.  Exceptional                     1   \n",
       "3                 ar     Pleasant.     Pleasant                     1   \n",
       "4                 ar       Superb.       Superb                     1   \n",
       "5                 ar  Exceptional.  Exceptional                     1   \n",
       "6                 ar  Exceptional.  Exceptional                     1   \n",
       "7                 de       Superb.       Superb                     1   \n",
       "8                 ar    Very good.    Very good                     2   \n",
       "9                 ar  Exceptional.  Exceptional                     1   \n",
       "\n",
       "   cleaned_text_n_char  \n",
       "0                   11  \n",
       "1                    6  \n",
       "2                   11  \n",
       "3                    8  \n",
       "4                    6  \n",
       "5                   11  \n",
       "6                   11  \n",
       "7                    6  \n",
       "8                    9  \n",
       "9                   11  "
      ]
     },
     "execution_count": 90,
     "metadata": {},
     "output_type": "execute_result"
    }
   ],
   "source": [
    "# Load the sample dataset\n",
    "\n",
    "# NOTE\n",
    "# prev_detect_lang: It contains system detected language of the review which may be wrong sometimes\n",
    "# text: It contains original review\n",
    "\n",
    "df = pd.read_csv(\"data/user_reviews.csv\")\n",
    "# Take only first two letters of the previous langauge\n",
    "df[\"prev_detected_lang\"] = df[\"prev_detected_lang\"].map(lambda x: x[:2])\n",
    "\n",
    "# Remove punctuation from the text\n",
    "df[\"cleaned_text\"] = df[\"text\"].replace(to_replace=r'[^\\w\\s]', value='', regex=True)\n",
    "df[\"cleaned_text\"] = df[\"cleaned_text\"].str.strip(\" \")\n",
    "\n",
    "df[\"cleaned_text_n_words\"] = df[\"cleaned_text\"].map(lambda x: len(x.split(' ')) if len(x) else 0)\n",
    "df[\"cleaned_text_n_char\"] = df[\"cleaned_text\"].map(lambda x: len(x))\n",
    "\n",
    "print(df.info())\n",
    "df.head(10)"
   ]
  },
  {
   "cell_type": "markdown",
   "metadata": {},
   "source": [
    "### Set of unique short-sentences/words in the dataset\n",
    "\n",
    "You can observe that almost all of the words are in english"
   ]
  },
  {
   "cell_type": "code",
   "execution_count": 80,
   "metadata": {},
   "outputs": [
    {
     "data": {
      "text/plain": [
       "array(['Exceptional.', 'Superb.', 'Pleasant.', 'Very good.', 'Good.',\n",
       "       'Passable.', 'Bad.', 'Disappointing.', 'Very poor.', 'Poor.',\n",
       "       'Very Good.', 'Excellent.', 'Super.', 'Wonderful !!!.', 'Perfect.',\n",
       "       'Recomendable.', 'excellent.', 'Fabulous.', 'Really lovely.',\n",
       "       'good.', 'Confortable.', 'nice.', 'Doha 2021.', 'Fantastic.',\n",
       "       'Great.', 'Okay.', 'Very very good 😊.', 'Thanks.', 'Amazing.',\n",
       "       'thanks.', 'perfect.', 'Perfect stay.', 'LOVELY HOTEL.',\n",
       "       'very nice.', 'Truly amazing!.', 'so good.', 'fantastic.',\n",
       "       'superb hotel.', 'Awesome!.', 'Perfect👍👍👍.', 'Awesome !!!.',\n",
       "       'Perfect👌.', 'nice hotel.', 'perfect!!.'], dtype=object)"
      ]
     },
     "execution_count": 80,
     "metadata": {},
     "output_type": "execute_result"
    }
   ],
   "source": [
    "df[\"text\"].unique()"
   ]
  },
  {
   "cell_type": "code",
   "execution_count": 81,
   "metadata": {},
   "outputs": [
    {
     "name": "stdout",
     "output_type": "stream",
     "text": [
      "Unable to Detect langauge: Okay  '__label__war_Latn'\n",
      "Unable to Detect langauge: Okay  '__label__war_Latn'\n",
      "Unable to Detect langauge: Okay  '__label__war_Latn'\n"
     ]
    }
   ],
   "source": [
    "df[\"predicted_lang\"] = df[\"cleaned_text\"].map(lambda t: predict(t, model) if len(t) else None)"
   ]
  },
  {
   "cell_type": "code",
   "execution_count": 9,
   "metadata": {},
   "outputs": [
    {
     "name": "stdout",
     "output_type": "stream",
     "text": [
      "1 3\n"
     ]
    },
    {
     "data": {
      "text/plain": [
       "{'__label__war_Latn'}"
      ]
     },
     "execution_count": 9,
     "metadata": {},
     "output_type": "execute_result"
    }
   ],
   "source": [
    "print(len(ls_undetected_lang_code), len(ls_error_reviews))\n",
    "ls_undetected_lang_code"
   ]
  },
  {
   "cell_type": "markdown",
   "metadata": {},
   "source": [
    "### Distribution of Previously detected Languages\n",
    "\n",
    "These are the languages detected by the review-platform. These languages were detected by their model using text and some other features related to the demographics of the reviewer."
   ]
  },
  {
   "cell_type": "code",
   "execution_count": 82,
   "metadata": {},
   "outputs": [
    {
     "data": {
      "image/png": "[encoded data removed]",
      "text/plain": [
       "<Figure size 800x800 with 1 Axes>"
      ]
     },
     "metadata": {},
     "output_type": "display_data"
    }
   ],
   "source": [
    "lang_counts = df[\"prev_detected_lang\"].value_counts()\n",
    "df_prev_lang_c = pd.DataFrame(data={'language': lang_counts.index, \"count\": lang_counts.values})\n",
    "plot(df_prev_lang_c)\n"
   ]
  },
  {
   "cell_type": "markdown",
   "metadata": {},
   "source": [
    "<font color='red'> **While almost all of the sentences in the dataset are in english, But the language detected by review-platform has not marked any of the sentence as \"en\"**. See the above plot.</font>"
   ]
  },
  {
   "cell_type": "markdown",
   "metadata": {},
   "source": [
    "### Distribution of lagnauges detected by the FASTTEXT\n",
    "\n",
    "These are the languages detected by the fasttext model."
   ]
  },
  {
   "cell_type": "code",
   "execution_count": 83,
   "metadata": {},
   "outputs": [
    {
     "name": "stdout",
     "output_type": "stream",
     "text": [
      "predicted_lang\n",
      "en    58636\n",
      "de    13636\n",
      "ro        4\n",
      "fr        2\n",
      "cs        1\n",
      "id        1\n",
      "Name: count, dtype: int64\n"
     ]
    },
    {
     "data": {
      "image/png": "[encoded data removed]",
      "text/plain": [
       "<Figure size 800x800 with 1 Axes>"
      ]
     },
     "metadata": {},
     "output_type": "display_data"
    }
   ],
   "source": [
    "lang_counts2 = df[\"predicted_lang\"].value_counts()\n",
    "df_pred_lang_c = pd.DataFrame(data={'language': lang_counts2.index, \"count\": lang_counts2.values})\n",
    "\n",
    "print(lang_counts2)\n",
    "\n",
    "plot(df_pred_lang_c)"
   ]
  },
  {
   "cell_type": "markdown",
   "metadata": {},
   "source": [
    "<font color='red'> **From the value-count and plot above we can see that fasttext has detected most of the sentences as 'en'. But there are problems with the 'de' language though. The count of words marked as 'de' is high. We have to see further which words are marked as 'de' or any other non-english language .**</font>"
   ]
  },
  {
   "cell_type": "markdown",
   "metadata": {},
   "source": [
    "### Words marked as English"
   ]
  },
  {
   "cell_type": "code",
   "execution_count": 88,
   "metadata": {},
   "outputs": [
    {
     "name": "stdout",
     "output_type": "stream",
     "text": [
      "word,  number of reviews\n",
      "\n",
      "cleaned_text\n",
      "Exceptional       32214\n",
      "Very good         12349\n",
      "Good               6135\n",
      "Pleasant           2876\n",
      "Passable           2675\n",
      "Disappointing      1060\n",
      "Poor                836\n",
      "Very poor           454\n",
      "Fabulous              6\n",
      "Perfect               4\n",
      "perfect               3\n",
      "Amazing               2\n",
      "good                  2\n",
      "Awesome               2\n",
      "Super                 2\n",
      "thanks                1\n",
      "fantastic             1\n",
      "so good               1\n",
      "Truly amazing         1\n",
      "very nice             1\n",
      "Perfect stay          1\n",
      "Very Good             1\n",
      "excellent             1\n",
      "Recomendable          1\n",
      "Thanks                1\n",
      "Very very good        1\n",
      "Great                 1\n",
      "Fantastic             1\n",
      "Confortable           1\n",
      "Wonderful             1\n",
      "Really lovely         1\n",
      "Name: count, dtype: int64\n"
     ]
    }
   ],
   "source": [
    "print(\"word,  number of reviews\\n\")\n",
    "pprint(df[df[\"predicted_lang\"] == 'en'][\"cleaned_text\"].value_counts())"
   ]
  },
  {
   "cell_type": "markdown",
   "metadata": {},
   "source": [
    "### Words NOT marked as English"
   ]
  },
  {
   "cell_type": "code",
   "execution_count": 89,
   "metadata": {},
   "outputs": [
    {
     "name": "stdout",
     "output_type": "stream",
     "text": [
      "word,  number of reviews\n",
      "\n",
      "cleaned_text\n",
      "Superb          11382\n",
      "Bad              2253\n",
      "nice                3\n",
      "Okay                3\n",
      "Excellent           2\n",
      "Doha 2021           1\n",
      "LOVELY HOTEL        1\n",
      "superb hotel        1\n",
      "nice hotel          1\n",
      "Name: count, dtype: int64\n"
     ]
    }
   ],
   "source": [
    "print(\"word,  number of reviews\\n\")\n",
    "\n",
    "pprint(df[df[\"predicted_lang\"] != 'en'][\"cleaned_text\"].value_counts())\n"
   ]
  },
  {
   "cell_type": "markdown",
   "metadata": {},
   "source": [
    "Language for the word \"Superb\" and \"Bad\" where wrongly predicted and are noticeable."
   ]
  },
  {
   "cell_type": "markdown",
   "metadata": {},
   "source": []
  }
 ],
 "metadata": {
  "kernelspec": {
   "display_name": "lang_detect_analysis",
   "language": "python",
   "name": "python3"
  },
  "language_info": {
   "codemirror_mode": {
    "name": "ipython",
    "version": 3
   },
   "file_extension": ".py",
   "mimetype": "text/x-python",
   "name": "python",
   "nbconvert_exporter": "python",
   "pygments_lexer": "ipython3",
   "version": "3.11.5"
  }
 },
 "nbformat": 4,
 "nbformat_minor": 2
}
